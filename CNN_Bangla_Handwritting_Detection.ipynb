{
  "cells": [
    {
      "cell_type": "markdown",
      "metadata": {
        "id": "view-in-github",
        "colab_type": "text"
      },
      "source": [
        "<a href=\"https://colab.research.google.com/github/ahatasham5/Bangla_Handwritting_CSE366/blob/main/CNN_Bangla_Handwritting_Detection.ipynb\" target=\"_parent\"><img src=\"https://colab.research.google.com/assets/colab-badge.svg\" alt=\"Open In Colab\"/></a>"
      ]
    },
    {
      "cell_type": "markdown",
      "metadata": {
        "id": "pBdZ-Cvepkc-"
      },
      "source": [
        "This is the notebook you have seen in the overview video."
      ]
    },
    {
      "cell_type": "markdown",
      "metadata": {
        "id": "3YVyixMWpkc_"
      },
      "source": [
        "## Creating the CNN model"
      ]
    },
    {
      "cell_type": "code",
      "execution_count": 1,
      "metadata": {
        "id": "kipwE1lTpkc_"
      },
      "outputs": [],
      "source": [
        "from keras.models import Sequential\n",
        "from keras.layers import Conv2D, MaxPooling2D, Flatten, Dense, Dropout"
      ]
    },
    {
      "cell_type": "code",
      "source": [
        "import zipfile\n",
        "from google.colab import drive\n",
        "# Mount your Google Drive\n",
        "drive.mount('/content/drive')\n",
        "\n",
        "# Replace '/content/drive/MyDrive/archive2.zip' with the actual path to your zip file on Google Drive\n",
        "with zipfile.ZipFile('/content/drive/MyDrive/HWrec/archive3.zip', 'r') as zip_ref:\n",
        "    # Extract all the contents of the zip file in the current directory\n",
        "    zip_ref.extractall()"
      ],
      "metadata": {
        "colab": {
          "base_uri": "https://localhost:8080/"
        },
        "id": "BXHiDo9QvNe2",
        "outputId": "a150e241-5a46-4451-ac6e-55d94d930a98"
      },
      "execution_count": 2,
      "outputs": [
        {
          "output_type": "stream",
          "name": "stdout",
          "text": [
            "Mounted at /content/drive\n"
          ]
        }
      ]
    },
    {
      "cell_type": "code",
      "source": [
        "!pwd\n"
      ],
      "metadata": {
        "colab": {
          "base_uri": "https://localhost:8080/"
        },
        "id": "6htW3Vkdg5zr",
        "outputId": "b8ea4edc-663e-4cb9-ea7d-b85258c4007f"
      },
      "execution_count": 3,
      "outputs": [
        {
          "output_type": "stream",
          "name": "stdout",
          "text": [
            "/content\n"
          ]
        }
      ]
    },
    {
      "cell_type": "code",
      "execution_count": 4,
      "metadata": {
        "id": "AWytAk_7pkdA",
        "colab": {
          "base_uri": "https://localhost:8080/"
        },
        "outputId": "e3cf264b-c8ca-4aa2-f3c0-09e6139821f1"
      },
      "outputs": [
        {
          "output_type": "stream",
          "name": "stderr",
          "text": [
            "/usr/local/lib/python3.10/dist-packages/keras/src/layers/convolutional/base_conv.py:107: UserWarning: Do not pass an `input_shape`/`input_dim` argument to a layer. When using Sequential models, prefer using an `Input(shape)` object as the first layer in the model instead.\n",
            "  super().__init__(activity_regularizer=activity_regularizer, **kwargs)\n"
          ]
        }
      ],
      "source": [
        "classifier = Sequential()\n",
        "\n",
        "classifier.add(Conv2D(filters = 128, kernel_size = (3, 3), activation = 'relu', input_shape = (40, 40, 3)))\n",
        "classifier.add(MaxPooling2D(pool_size = (2, 2)))\n",
        "classifier.add(Dropout(.2))\n",
        "\n",
        "classifier.add(Conv2D(filters = 64, kernel_size = (3, 3), activation = 'relu'))\n",
        "classifier.add(MaxPooling2D(pool_size = (2, 2)))\n",
        "classifier.add(Dropout(.2))\n",
        "\n",
        "classifier.add(Flatten())\n",
        "\n",
        "classifier.add(Dense(units = 128, activation = 'relu'))\n",
        "classifier.add(Dropout(.2))\n",
        "\n",
        "classifier.add(Dense(units = 10, activation = 'softmax'))\n",
        "\n",
        "classifier.compile(optimizer = 'adam', loss = 'categorical_crossentropy', metrics = ['accuracy'])"
      ]
    },
    {
      "cell_type": "markdown",
      "metadata": {
        "id": "v0tNGprYpkdA"
      },
      "source": [
        "## Fitting the CNN model to the Dataset"
      ]
    },
    {
      "cell_type": "code",
      "execution_count": 5,
      "metadata": {
        "id": "T_9s9zIvpkdA"
      },
      "outputs": [],
      "source": [
        "from tensorflow.keras.preprocessing.image import ImageDataGenerator\n",
        "from PIL import ImageFile"
      ]
    },
    {
      "cell_type": "code",
      "source": [
        "!pwd\n",
        "!ls\n",
        "!ls /content/archive3/Train"
      ],
      "metadata": {
        "colab": {
          "base_uri": "https://localhost:8080/"
        },
        "id": "0mfpFv9w3UqK",
        "outputId": "8abc7c0e-dbfa-49a9-cc40-f903022150e9"
      },
      "execution_count": 6,
      "outputs": [
        {
          "output_type": "stream",
          "name": "stdout",
          "text": [
            "/content\n",
            "archive3  drive  sample_data\n",
            "0  1  2  3  4  5  6  7\t8  9\n"
          ]
        }
      ]
    },
    {
      "cell_type": "markdown",
      "source": [
        "Data Generate"
      ],
      "metadata": {
        "id": "tRdBIWmZAlu9"
      }
    },
    {
      "cell_type": "code",
      "execution_count": 7,
      "metadata": {
        "colab": {
          "base_uri": "https://localhost:8080/"
        },
        "id": "yGvUv-NUpkdA",
        "outputId": "7c71e707-464b-4cb9-f3a7-25d0821cceb5"
      },
      "outputs": [
        {
          "output_type": "stream",
          "name": "stdout",
          "text": [
            "Found 14724 images belonging to 10 classes.\n",
            "Found 1120 images belonging to 10 classes.\n"
          ]
        }
      ],
      "source": [
        "ImageFile.LOAD_TRUNCATED_IMAGES = True\n",
        "\n",
        "train_datagen = ImageDataGenerator(rescale = 1./255, shear_range = .2, rotation_range = 25)\n",
        "test_datagen = ImageDataGenerator(rescale = 1./255)\n",
        "\n",
        "training_set = train_datagen.flow_from_directory('/content/archive3/Test', target_size = (40, 40),\n",
        "                                                 batch_size = 32, class_mode = 'categorical')\n",
        "test_set = test_datagen.flow_from_directory('/content/archive3/Train', target_size = (40, 40),\n",
        "                                                 batch_size = 32, class_mode = 'categorical')"
      ]
    },
    {
      "cell_type": "code",
      "source": [
        "import numpy as np\n",
        "\n",
        "# Get a single batch of images and labels\n",
        "images_batch, labels_batch = next(training_set)\n",
        "\n",
        "# Check if there are any NaN or Inf values in the images\n",
        "if np.isnan(images_batch).any():\n",
        "    print('Images contain NaN values.')\n",
        "if np.isinf(images_batch).any():\n",
        "    print('Images contain Inf values.')"
      ],
      "metadata": {
        "id": "LcenfgzD-a-_"
      },
      "execution_count": 8,
      "outputs": []
    },
    {
      "cell_type": "code",
      "source": [
        "# Get a single batch of images and labels\n",
        "images_batch, labels_batch = next(training_set)\n",
        "\n",
        "# Print the shape of the images\n",
        "print('Shape of images:', images_batch.shape)\n"
      ],
      "metadata": {
        "colab": {
          "base_uri": "https://localhost:8080/"
        },
        "id": "8p14coYU-1CH",
        "outputId": "7667bd41-df3b-46ec-97cf-fd8d028a5b3c"
      },
      "execution_count": 9,
      "outputs": [
        {
          "output_type": "stream",
          "name": "stdout",
          "text": [
            "Shape of images: (32, 40, 40, 3)\n"
          ]
        }
      ]
    },
    {
      "cell_type": "code",
      "source": [
        "from keras.callbacks import EarlyStopping\n",
        "\n",
        "# Define the number of times to repeat the data generator\n",
        "num_epochs = 3\n",
        "num_repeats = 1  # Adjust as needed\n",
        "\n",
        "early_stopping = EarlyStopping(monitor='val_loss', patience=5)\n",
        "\n",
        "for _ in range(num_epochs):\n",
        "    for _ in range(num_repeats):\n",
        "        # Reset the data generator before each repeat\n",
        "        training_set.reset()\n",
        "\n",
        "        # Train for one epoch\n",
        "        classifier.fit(training_set, steps_per_epoch=len(training_set), epochs=1, validation_data=test_set,\n",
        "                       validation_steps=len(test_set), callbacks=[early_stopping])\n"
      ],
      "metadata": {
        "colab": {
          "base_uri": "https://localhost:8080/"
        },
        "id": "RhwDo4T7eWPg",
        "outputId": "2164ad09-c85a-40ea-b4d4-1fc338f36750"
      },
      "execution_count": 10,
      "outputs": [
        {
          "output_type": "stream",
          "name": "stderr",
          "text": [
            "/usr/local/lib/python3.10/dist-packages/keras/src/trainers/data_adapters/py_dataset_adapter.py:122: UserWarning: Your `PyDataset` class should call `super().__init__(**kwargs)` in its constructor. `**kwargs` can include `workers`, `use_multiprocessing`, `max_queue_size`. Do not pass these arguments to `fit()`, as they will be ignored.\n",
            "  self._warn_if_super_not_called()\n"
          ]
        },
        {
          "output_type": "stream",
          "name": "stdout",
          "text": [
            "\u001b[1m461/461\u001b[0m \u001b[32m━━━━━━━━━━━━━━━━━━━━\u001b[0m\u001b[37m\u001b[0m \u001b[1m32s\u001b[0m 55ms/step - accuracy: 0.6537 - loss: 1.0223 - val_accuracy: 0.9161 - val_loss: 0.2925\n",
            "\u001b[1m461/461\u001b[0m \u001b[32m━━━━━━━━━━━━━━━━━━━━\u001b[0m\u001b[37m\u001b[0m \u001b[1m21s\u001b[0m 44ms/step - accuracy: 0.8925 - loss: 0.3221 - val_accuracy: 0.9393 - val_loss: 0.2267\n",
            "\u001b[1m461/461\u001b[0m \u001b[32m━━━━━━━━━━━━━━━━━━━━\u001b[0m\u001b[37m\u001b[0m \u001b[1m20s\u001b[0m 43ms/step - accuracy: 0.9270 - loss: 0.2228 - val_accuracy: 0.9509 - val_loss: 0.1744\n"
          ]
        }
      ]
    },
    {
      "cell_type": "code",
      "execution_count": 11,
      "metadata": {
        "scrolled": false,
        "colab": {
          "base_uri": "https://localhost:8080/"
        },
        "id": "UTU6--1KpkdB",
        "outputId": "a0f33ff4-43fd-4633-9fc2-c713c16896e5"
      },
      "outputs": [
        {
          "output_type": "stream",
          "name": "stdout",
          "text": [
            "Epoch 1/20\n",
            "\u001b[1m35/35\u001b[0m \u001b[32m━━━━━━━━━━━━━━━━━━━━\u001b[0m\u001b[37m\u001b[0m \u001b[1m0s\u001b[0m 61ms/step - accuracy: 0.9373 - loss: 0.2126"
          ]
        },
        {
          "output_type": "stream",
          "name": "stderr",
          "text": [
            "/usr/lib/python3.10/contextlib.py:153: UserWarning: Your input ran out of data; interrupting training. Make sure that your dataset or generator can generate at least `steps_per_epoch * epochs` batches. You may need to use the `.repeat()` function when building your dataset.\n",
            "  self.gen.throw(typ, value, traceback)\n"
          ]
        },
        {
          "output_type": "stream",
          "name": "stdout",
          "text": [
            "\b\b\b\b\b\b\b\b\b\b\b\b\b\b\b\b\b\b\b\b\b\b\b\b\b\b\b\b\b\b\b\b\b\b\b\b\b\b\b\b\b\b\b\b\b\b\b\b\b\b\b\b\b\b\b\b\b\b\b\b\b\b\b\b\b\b\b\b\b\b\b\b\b\r\u001b[1m35/35\u001b[0m \u001b[32m━━━━━━━━━━━━━━━━━━━━\u001b[0m\u001b[37m\u001b[0m \u001b[1m4s\u001b[0m 104ms/step - accuracy: 0.9373 - loss: 0.2128 - val_accuracy: 0.9482 - val_loss: 0.1831\n",
            "Epoch 2/20\n",
            "\u001b[1m35/35\u001b[0m \u001b[32m━━━━━━━━━━━━━━━━━━━━\u001b[0m\u001b[37m\u001b[0m \u001b[1m2s\u001b[0m 59ms/step - accuracy: 0.9378 - loss: 0.1809 - val_accuracy: 0.9438 - val_loss: 0.1879\n",
            "Epoch 3/20\n",
            "\u001b[1m35/35\u001b[0m \u001b[32m━━━━━━━━━━━━━━━━━━━━\u001b[0m\u001b[37m\u001b[0m \u001b[1m2s\u001b[0m 62ms/step - accuracy: 0.9220 - loss: 0.2329 - val_accuracy: 0.9402 - val_loss: 0.1977\n",
            "Epoch 4/20\n",
            "\u001b[1m35/35\u001b[0m \u001b[32m━━━━━━━━━━━━━━━━━━━━\u001b[0m\u001b[37m\u001b[0m \u001b[1m2s\u001b[0m 71ms/step - accuracy: 0.9257 - loss: 0.2009 - val_accuracy: 0.9446 - val_loss: 0.2022\n",
            "Epoch 5/20\n",
            "\u001b[1m35/35\u001b[0m \u001b[32m━━━━━━━━━━━━━━━━━━━━\u001b[0m\u001b[37m\u001b[0m \u001b[1m2s\u001b[0m 57ms/step - accuracy: 0.9503 - loss: 0.1862 - val_accuracy: 0.9563 - val_loss: 0.1768\n",
            "Epoch 6/20\n",
            "\u001b[1m35/35\u001b[0m \u001b[32m━━━━━━━━━━━━━━━━━━━━\u001b[0m\u001b[37m\u001b[0m \u001b[1m3s\u001b[0m 100ms/step - accuracy: 0.9137 - loss: 0.2411 - val_accuracy: 0.9536 - val_loss: 0.1736\n",
            "Epoch 7/20\n",
            "\u001b[1m35/35\u001b[0m \u001b[32m━━━━━━━━━━━━━━━━━━━━\u001b[0m\u001b[37m\u001b[0m \u001b[1m2s\u001b[0m 52ms/step - accuracy: 0.9229 - loss: 0.2056 - val_accuracy: 0.9411 - val_loss: 0.2001\n",
            "Epoch 8/20\n",
            "\u001b[1m35/35\u001b[0m \u001b[32m━━━━━━━━━━━━━━━━━━━━\u001b[0m\u001b[37m\u001b[0m \u001b[1m2s\u001b[0m 65ms/step - accuracy: 0.9335 - loss: 0.1897 - val_accuracy: 0.9464 - val_loss: 0.1907\n",
            "Epoch 9/20\n",
            "\u001b[1m35/35\u001b[0m \u001b[32m━━━━━━━━━━━━━━━━━━━━\u001b[0m\u001b[37m\u001b[0m \u001b[1m2s\u001b[0m 57ms/step - accuracy: 0.9412 - loss: 0.1649 - val_accuracy: 0.9518 - val_loss: 0.1903\n",
            "Epoch 10/20\n",
            "\u001b[1m35/35\u001b[0m \u001b[32m━━━━━━━━━━━━━━━━━━━━\u001b[0m\u001b[37m\u001b[0m \u001b[1m2s\u001b[0m 51ms/step - accuracy: 0.9436 - loss: 0.1768 - val_accuracy: 0.9420 - val_loss: 0.2001\n",
            "Epoch 11/20\n",
            "\u001b[1m35/35\u001b[0m \u001b[32m━━━━━━━━━━━━━━━━━━━━\u001b[0m\u001b[37m\u001b[0m \u001b[1m2s\u001b[0m 61ms/step - accuracy: 0.9271 - loss: 0.2102 - val_accuracy: 0.9438 - val_loss: 0.1993\n",
            "Epoch 12/20\n",
            "\u001b[1m35/35\u001b[0m \u001b[32m━━━━━━━━━━━━━━━━━━━━\u001b[0m\u001b[37m\u001b[0m \u001b[1m2s\u001b[0m 57ms/step - accuracy: 0.9214 - loss: 0.2236 - val_accuracy: 0.9500 - val_loss: 0.1875\n",
            "Epoch 13/20\n",
            "\u001b[1m35/35\u001b[0m \u001b[32m━━━━━━━━━━━━━━━━━━━━\u001b[0m\u001b[37m\u001b[0m \u001b[1m2s\u001b[0m 66ms/step - accuracy: 0.9435 - loss: 0.1356 - val_accuracy: 0.9491 - val_loss: 0.1979\n",
            "Epoch 14/20\n",
            "\u001b[1m35/35\u001b[0m \u001b[32m━━━━━━━━━━━━━━━━━━━━\u001b[0m\u001b[37m\u001b[0m \u001b[1m1s\u001b[0m 24ms/step - accuracy: 0.9216 - loss: 0.2015 - val_accuracy: 0.9491 - val_loss: 0.1921\n",
            "Epoch 15/20\n",
            "\u001b[1m35/35\u001b[0m \u001b[32m━━━━━━━━━━━━━━━━━━━━\u001b[0m\u001b[37m\u001b[0m \u001b[1m14s\u001b[0m 98ms/step - accuracy: 0.9491 - loss: 0.1622 - val_accuracy: 0.9393 - val_loss: 0.2250\n",
            "Epoch 16/20\n",
            "\u001b[1m35/35\u001b[0m \u001b[32m━━━━━━━━━━━━━━━━━━━━\u001b[0m\u001b[37m\u001b[0m \u001b[1m2s\u001b[0m 59ms/step - accuracy: 0.9185 - loss: 0.2198 - val_accuracy: 0.9375 - val_loss: 0.2118\n",
            "Epoch 17/20\n",
            "\u001b[1m35/35\u001b[0m \u001b[32m━━━━━━━━━━━━━━━━━━━━\u001b[0m\u001b[37m\u001b[0m \u001b[1m2s\u001b[0m 61ms/step - accuracy: 0.9322 - loss: 0.1941 - val_accuracy: 0.9402 - val_loss: 0.1819\n",
            "Epoch 18/20\n",
            "\u001b[1m35/35\u001b[0m \u001b[32m━━━━━━━━━━━━━━━━━━━━\u001b[0m\u001b[37m\u001b[0m \u001b[1m2s\u001b[0m 65ms/step - accuracy: 0.9374 - loss: 0.1741 - val_accuracy: 0.9384 - val_loss: 0.1977\n",
            "Epoch 19/20\n",
            "\u001b[1m35/35\u001b[0m \u001b[32m━━━━━━━━━━━━━━━━━━━━\u001b[0m\u001b[37m\u001b[0m \u001b[1m2s\u001b[0m 58ms/step - accuracy: 0.9436 - loss: 0.1795 - val_accuracy: 0.9429 - val_loss: 0.1930\n",
            "Epoch 20/20\n",
            "\u001b[1m35/35\u001b[0m \u001b[32m━━━━━━━━━━━━━━━━━━━━\u001b[0m\u001b[37m\u001b[0m \u001b[1m2s\u001b[0m 61ms/step - accuracy: 0.9524 - loss: 0.1848 - val_accuracy: 0.9571 - val_loss: 0.1709\n"
          ]
        },
        {
          "output_type": "execute_result",
          "data": {
            "text/plain": [
              "<keras.src.callbacks.history.History at 0x7fccc8062920>"
            ]
          },
          "metadata": {},
          "execution_count": 11
        }
      ],
      "source": [
        "classifier.fit(training_set, steps_per_epoch = 35, epochs = 20,\n",
        "               validation_data = test_set, validation_steps = 460)\n"
      ]
    },
    {
      "cell_type": "code",
      "execution_count": 12,
      "metadata": {
        "id": "0GB8aE_1pkdB",
        "colab": {
          "base_uri": "https://localhost:8080/",
          "height": 473
        },
        "outputId": "4274615d-715e-4706-9b5f-d4ef090a64a7"
      },
      "outputs": [
        {
          "output_type": "display_data",
          "data": {
            "text/plain": [
              "\u001b[1mModel: \"sequential\"\u001b[0m\n"
            ],
            "text/html": [
              "<pre style=\"white-space:pre;overflow-x:auto;line-height:normal;font-family:Menlo,'DejaVu Sans Mono',consolas,'Courier New',monospace\"><span style=\"font-weight: bold\">Model: \"sequential\"</span>\n",
              "</pre>\n"
            ]
          },
          "metadata": {}
        },
        {
          "output_type": "display_data",
          "data": {
            "text/plain": [
              "┏━━━━━━━━━━━━━━━━━━━━━━━━━━━━━━━━━━━━━━┳━━━━━━━━━━━━━━━━━━━━━━━━━━━━━┳━━━━━━━━━━━━━━━━━┓\n",
              "┃\u001b[1m \u001b[0m\u001b[1mLayer (type)                        \u001b[0m\u001b[1m \u001b[0m┃\u001b[1m \u001b[0m\u001b[1mOutput Shape               \u001b[0m\u001b[1m \u001b[0m┃\u001b[1m \u001b[0m\u001b[1m        Param #\u001b[0m\u001b[1m \u001b[0m┃\n",
              "┡━━━━━━━━━━━━━━━━━━━━━━━━━━━━━━━━━━━━━━╇━━━━━━━━━━━━━━━━━━━━━━━━━━━━━╇━━━━━━━━━━━━━━━━━┩\n",
              "│ conv2d (\u001b[38;5;33mConv2D\u001b[0m)                      │ (\u001b[38;5;45mNone\u001b[0m, \u001b[38;5;34m38\u001b[0m, \u001b[38;5;34m38\u001b[0m, \u001b[38;5;34m128\u001b[0m)         │           \u001b[38;5;34m3,584\u001b[0m │\n",
              "├──────────────────────────────────────┼─────────────────────────────┼─────────────────┤\n",
              "│ max_pooling2d (\u001b[38;5;33mMaxPooling2D\u001b[0m)         │ (\u001b[38;5;45mNone\u001b[0m, \u001b[38;5;34m19\u001b[0m, \u001b[38;5;34m19\u001b[0m, \u001b[38;5;34m128\u001b[0m)         │               \u001b[38;5;34m0\u001b[0m │\n",
              "├──────────────────────────────────────┼─────────────────────────────┼─────────────────┤\n",
              "│ dropout (\u001b[38;5;33mDropout\u001b[0m)                    │ (\u001b[38;5;45mNone\u001b[0m, \u001b[38;5;34m19\u001b[0m, \u001b[38;5;34m19\u001b[0m, \u001b[38;5;34m128\u001b[0m)         │               \u001b[38;5;34m0\u001b[0m │\n",
              "├──────────────────────────────────────┼─────────────────────────────┼─────────────────┤\n",
              "│ conv2d_1 (\u001b[38;5;33mConv2D\u001b[0m)                    │ (\u001b[38;5;45mNone\u001b[0m, \u001b[38;5;34m17\u001b[0m, \u001b[38;5;34m17\u001b[0m, \u001b[38;5;34m64\u001b[0m)          │          \u001b[38;5;34m73,792\u001b[0m │\n",
              "├──────────────────────────────────────┼─────────────────────────────┼─────────────────┤\n",
              "│ max_pooling2d_1 (\u001b[38;5;33mMaxPooling2D\u001b[0m)       │ (\u001b[38;5;45mNone\u001b[0m, \u001b[38;5;34m8\u001b[0m, \u001b[38;5;34m8\u001b[0m, \u001b[38;5;34m64\u001b[0m)            │               \u001b[38;5;34m0\u001b[0m │\n",
              "├──────────────────────────────────────┼─────────────────────────────┼─────────────────┤\n",
              "│ dropout_1 (\u001b[38;5;33mDropout\u001b[0m)                  │ (\u001b[38;5;45mNone\u001b[0m, \u001b[38;5;34m8\u001b[0m, \u001b[38;5;34m8\u001b[0m, \u001b[38;5;34m64\u001b[0m)            │               \u001b[38;5;34m0\u001b[0m │\n",
              "├──────────────────────────────────────┼─────────────────────────────┼─────────────────┤\n",
              "│ flatten (\u001b[38;5;33mFlatten\u001b[0m)                    │ (\u001b[38;5;45mNone\u001b[0m, \u001b[38;5;34m4096\u001b[0m)                │               \u001b[38;5;34m0\u001b[0m │\n",
              "├──────────────────────────────────────┼─────────────────────────────┼─────────────────┤\n",
              "│ dense (\u001b[38;5;33mDense\u001b[0m)                        │ (\u001b[38;5;45mNone\u001b[0m, \u001b[38;5;34m128\u001b[0m)                 │         \u001b[38;5;34m524,416\u001b[0m │\n",
              "├──────────────────────────────────────┼─────────────────────────────┼─────────────────┤\n",
              "│ dropout_2 (\u001b[38;5;33mDropout\u001b[0m)                  │ (\u001b[38;5;45mNone\u001b[0m, \u001b[38;5;34m128\u001b[0m)                 │               \u001b[38;5;34m0\u001b[0m │\n",
              "├──────────────────────────────────────┼─────────────────────────────┼─────────────────┤\n",
              "│ dense_1 (\u001b[38;5;33mDense\u001b[0m)                      │ (\u001b[38;5;45mNone\u001b[0m, \u001b[38;5;34m10\u001b[0m)                  │           \u001b[38;5;34m1,290\u001b[0m │\n",
              "└──────────────────────────────────────┴─────────────────────────────┴─────────────────┘\n"
            ],
            "text/html": [
              "<pre style=\"white-space:pre;overflow-x:auto;line-height:normal;font-family:Menlo,'DejaVu Sans Mono',consolas,'Courier New',monospace\">┏━━━━━━━━━━━━━━━━━━━━━━━━━━━━━━━━━━━━━━┳━━━━━━━━━━━━━━━━━━━━━━━━━━━━━┳━━━━━━━━━━━━━━━━━┓\n",
              "┃<span style=\"font-weight: bold\"> Layer (type)                         </span>┃<span style=\"font-weight: bold\"> Output Shape                </span>┃<span style=\"font-weight: bold\">         Param # </span>┃\n",
              "┡━━━━━━━━━━━━━━━━━━━━━━━━━━━━━━━━━━━━━━╇━━━━━━━━━━━━━━━━━━━━━━━━━━━━━╇━━━━━━━━━━━━━━━━━┩\n",
              "│ conv2d (<span style=\"color: #0087ff; text-decoration-color: #0087ff\">Conv2D</span>)                      │ (<span style=\"color: #00d7ff; text-decoration-color: #00d7ff\">None</span>, <span style=\"color: #00af00; text-decoration-color: #00af00\">38</span>, <span style=\"color: #00af00; text-decoration-color: #00af00\">38</span>, <span style=\"color: #00af00; text-decoration-color: #00af00\">128</span>)         │           <span style=\"color: #00af00; text-decoration-color: #00af00\">3,584</span> │\n",
              "├──────────────────────────────────────┼─────────────────────────────┼─────────────────┤\n",
              "│ max_pooling2d (<span style=\"color: #0087ff; text-decoration-color: #0087ff\">MaxPooling2D</span>)         │ (<span style=\"color: #00d7ff; text-decoration-color: #00d7ff\">None</span>, <span style=\"color: #00af00; text-decoration-color: #00af00\">19</span>, <span style=\"color: #00af00; text-decoration-color: #00af00\">19</span>, <span style=\"color: #00af00; text-decoration-color: #00af00\">128</span>)         │               <span style=\"color: #00af00; text-decoration-color: #00af00\">0</span> │\n",
              "├──────────────────────────────────────┼─────────────────────────────┼─────────────────┤\n",
              "│ dropout (<span style=\"color: #0087ff; text-decoration-color: #0087ff\">Dropout</span>)                    │ (<span style=\"color: #00d7ff; text-decoration-color: #00d7ff\">None</span>, <span style=\"color: #00af00; text-decoration-color: #00af00\">19</span>, <span style=\"color: #00af00; text-decoration-color: #00af00\">19</span>, <span style=\"color: #00af00; text-decoration-color: #00af00\">128</span>)         │               <span style=\"color: #00af00; text-decoration-color: #00af00\">0</span> │\n",
              "├──────────────────────────────────────┼─────────────────────────────┼─────────────────┤\n",
              "│ conv2d_1 (<span style=\"color: #0087ff; text-decoration-color: #0087ff\">Conv2D</span>)                    │ (<span style=\"color: #00d7ff; text-decoration-color: #00d7ff\">None</span>, <span style=\"color: #00af00; text-decoration-color: #00af00\">17</span>, <span style=\"color: #00af00; text-decoration-color: #00af00\">17</span>, <span style=\"color: #00af00; text-decoration-color: #00af00\">64</span>)          │          <span style=\"color: #00af00; text-decoration-color: #00af00\">73,792</span> │\n",
              "├──────────────────────────────────────┼─────────────────────────────┼─────────────────┤\n",
              "│ max_pooling2d_1 (<span style=\"color: #0087ff; text-decoration-color: #0087ff\">MaxPooling2D</span>)       │ (<span style=\"color: #00d7ff; text-decoration-color: #00d7ff\">None</span>, <span style=\"color: #00af00; text-decoration-color: #00af00\">8</span>, <span style=\"color: #00af00; text-decoration-color: #00af00\">8</span>, <span style=\"color: #00af00; text-decoration-color: #00af00\">64</span>)            │               <span style=\"color: #00af00; text-decoration-color: #00af00\">0</span> │\n",
              "├──────────────────────────────────────┼─────────────────────────────┼─────────────────┤\n",
              "│ dropout_1 (<span style=\"color: #0087ff; text-decoration-color: #0087ff\">Dropout</span>)                  │ (<span style=\"color: #00d7ff; text-decoration-color: #00d7ff\">None</span>, <span style=\"color: #00af00; text-decoration-color: #00af00\">8</span>, <span style=\"color: #00af00; text-decoration-color: #00af00\">8</span>, <span style=\"color: #00af00; text-decoration-color: #00af00\">64</span>)            │               <span style=\"color: #00af00; text-decoration-color: #00af00\">0</span> │\n",
              "├──────────────────────────────────────┼─────────────────────────────┼─────────────────┤\n",
              "│ flatten (<span style=\"color: #0087ff; text-decoration-color: #0087ff\">Flatten</span>)                    │ (<span style=\"color: #00d7ff; text-decoration-color: #00d7ff\">None</span>, <span style=\"color: #00af00; text-decoration-color: #00af00\">4096</span>)                │               <span style=\"color: #00af00; text-decoration-color: #00af00\">0</span> │\n",
              "├──────────────────────────────────────┼─────────────────────────────┼─────────────────┤\n",
              "│ dense (<span style=\"color: #0087ff; text-decoration-color: #0087ff\">Dense</span>)                        │ (<span style=\"color: #00d7ff; text-decoration-color: #00d7ff\">None</span>, <span style=\"color: #00af00; text-decoration-color: #00af00\">128</span>)                 │         <span style=\"color: #00af00; text-decoration-color: #00af00\">524,416</span> │\n",
              "├──────────────────────────────────────┼─────────────────────────────┼─────────────────┤\n",
              "│ dropout_2 (<span style=\"color: #0087ff; text-decoration-color: #0087ff\">Dropout</span>)                  │ (<span style=\"color: #00d7ff; text-decoration-color: #00d7ff\">None</span>, <span style=\"color: #00af00; text-decoration-color: #00af00\">128</span>)                 │               <span style=\"color: #00af00; text-decoration-color: #00af00\">0</span> │\n",
              "├──────────────────────────────────────┼─────────────────────────────┼─────────────────┤\n",
              "│ dense_1 (<span style=\"color: #0087ff; text-decoration-color: #0087ff\">Dense</span>)                      │ (<span style=\"color: #00d7ff; text-decoration-color: #00d7ff\">None</span>, <span style=\"color: #00af00; text-decoration-color: #00af00\">10</span>)                  │           <span style=\"color: #00af00; text-decoration-color: #00af00\">1,290</span> │\n",
              "└──────────────────────────────────────┴─────────────────────────────┴─────────────────┘\n",
              "</pre>\n"
            ]
          },
          "metadata": {}
        },
        {
          "output_type": "display_data",
          "data": {
            "text/plain": [
              "\u001b[1m Total params: \u001b[0m\u001b[38;5;34m1,809,248\u001b[0m (6.90 MB)\n"
            ],
            "text/html": [
              "<pre style=\"white-space:pre;overflow-x:auto;line-height:normal;font-family:Menlo,'DejaVu Sans Mono',consolas,'Courier New',monospace\"><span style=\"font-weight: bold\"> Total params: </span><span style=\"color: #00af00; text-decoration-color: #00af00\">1,809,248</span> (6.90 MB)\n",
              "</pre>\n"
            ]
          },
          "metadata": {}
        },
        {
          "output_type": "display_data",
          "data": {
            "text/plain": [
              "\u001b[1m Trainable params: \u001b[0m\u001b[38;5;34m603,082\u001b[0m (2.30 MB)\n"
            ],
            "text/html": [
              "<pre style=\"white-space:pre;overflow-x:auto;line-height:normal;font-family:Menlo,'DejaVu Sans Mono',consolas,'Courier New',monospace\"><span style=\"font-weight: bold\"> Trainable params: </span><span style=\"color: #00af00; text-decoration-color: #00af00\">603,082</span> (2.30 MB)\n",
              "</pre>\n"
            ]
          },
          "metadata": {}
        },
        {
          "output_type": "display_data",
          "data": {
            "text/plain": [
              "\u001b[1m Non-trainable params: \u001b[0m\u001b[38;5;34m0\u001b[0m (0.00 B)\n"
            ],
            "text/html": [
              "<pre style=\"white-space:pre;overflow-x:auto;line-height:normal;font-family:Menlo,'DejaVu Sans Mono',consolas,'Courier New',monospace\"><span style=\"font-weight: bold\"> Non-trainable params: </span><span style=\"color: #00af00; text-decoration-color: #00af00\">0</span> (0.00 B)\n",
              "</pre>\n"
            ]
          },
          "metadata": {}
        },
        {
          "output_type": "display_data",
          "data": {
            "text/plain": [
              "\u001b[1m Optimizer params: \u001b[0m\u001b[38;5;34m1,206,166\u001b[0m (4.60 MB)\n"
            ],
            "text/html": [
              "<pre style=\"white-space:pre;overflow-x:auto;line-height:normal;font-family:Menlo,'DejaVu Sans Mono',consolas,'Courier New',monospace\"><span style=\"font-weight: bold\"> Optimizer params: </span><span style=\"color: #00af00; text-decoration-color: #00af00\">1,206,166</span> (4.60 MB)\n",
              "</pre>\n"
            ]
          },
          "metadata": {}
        }
      ],
      "source": [
        "classifier.summary()"
      ]
    },
    {
      "cell_type": "markdown",
      "metadata": {
        "id": "dYI03uwcpkdB"
      },
      "source": [
        "## Creating a graphical user interface to draw the character"
      ]
    },
    {
      "cell_type": "code",
      "source": [
        "from IPython.display import display, HTML, Javascript\n",
        "import io\n",
        "import base64\n",
        "from PIL import Image\n",
        "import numpy as np\n",
        "from tensorflow.keras.preprocessing import image\n",
        "import ipywidgets as widgets\n",
        "\n",
        "\n",
        "\n",
        "\n",
        "# Create an HTML canvas\n",
        "canvas_html = \"\"\"\n",
        "<canvas width=\"400\" height=\"400\" id=\"drawing-canvas\" style=\"border:1px solid black;\"></canvas>\n",
        "\"\"\"\n",
        "\n",
        "# Create JavaScript code to handle mouse events and update the canvas\n",
        "javascript = \"\"\"\n",
        "<script type=\"text/javascript\">\n",
        "    // Get the canvas element and its context\n",
        "    var canvas = document.getElementById('drawing-canvas');\n",
        "    var ctx = canvas.getContext('2d');\n",
        "\n",
        "    // Set the initial background to white ONCE\n",
        "    function initializeCanvas() {\n",
        "        ctx.fillStyle = 'white';\n",
        "        ctx.fillRect(0, 0, canvas.width, canvas.height);\n",
        "    }\n",
        "\n",
        "    initializeCanvas(); // Call this to set the white background at the start\n",
        "\n",
        "    // Set the stroke style for drawing\n",
        "    ctx.strokeStyle = 'black';\n",
        "    ctx.lineWidth = 10;\n",
        "\n",
        "    // Flag to indicate whether the mouse button is pressed\n",
        "    var isDrawing = false;\n",
        "\n",
        "    // Function to handle mouse down events\n",
        "    function handleMouseDown(event) {\n",
        "        // Start drawing\n",
        "        isDrawing = true;\n",
        "        ctx.beginPath();\n",
        "        ctx.moveTo(event.offsetX, event.offsetY);\n",
        "    }\n",
        "\n",
        "    // Function to handle mouse move events\n",
        "    function handleMouseMove(event) {\n",
        "        if (isDrawing) {\n",
        "            // Draw a line to the current mouse position\n",
        "            ctx.lineTo(event.offsetX, event.offsetY);\n",
        "            ctx.stroke();\n",
        "        }\n",
        "    }\n",
        "\n",
        "    // Function to handle mouse up events\n",
        "    function handleMouseUp(event) {\n",
        "        // Stop drawing\n",
        "        isDrawing = false;\n",
        "    }\n",
        "\n",
        "    // Register event listeners\n",
        "    canvas.addEventListener('mousedown', handleMouseDown);\n",
        "    canvas.addEventListener('mousemove', handleMouseMove);\n",
        "    canvas.addEventListener('mouseup', handleMouseUp);\n",
        "</script>\n",
        "\n",
        "\"\"\"\n",
        "\n",
        "# Display the canvas and run the JavaScript code\n",
        "display(HTML(canvas_html + javascript))\n",
        "\n",
        "def determine_character(res):\n",
        "    if res == 0:\n",
        "        print('prediction : 0')\n",
        "    elif res == 1:\n",
        "        print('prediction : 1')\n",
        "    elif res == 2:\n",
        "        print('prediction : 2')\n",
        "    elif res == 3:\n",
        "        print('prediction : 3')\n",
        "    elif res == 4:\n",
        "        print('prediction : 4')\n",
        "    elif res == 5:\n",
        "        print('prediction : 5')\n",
        "    elif res == 6:\n",
        "        print('prediction : 6')\n",
        "    elif res == 7:\n",
        "        print('prediction : 7')\n",
        "    elif res == 8:\n",
        "        print('prediction : 8')\n",
        "    elif res == 9:\n",
        "        print('prediction : 9')\n",
        "\n",
        "def single_prediction(test_img):\n",
        "    test_img_arr = image.img_to_array(test_img)\n",
        "    test_img_arr = np.expand_dims(test_img_arr, axis = 0)\n",
        "    prediction = classifier.predict(test_img_arr)\n",
        "    result = np.argmax(prediction, axis = 1)\n",
        "    determine_character(result)\n",
        "\n",
        "from google.colab import output\n",
        "\n",
        "def predict_from_canvas():\n",
        "    # Execute the JavaScript function to get image data\n",
        "    get_image_data_js = \"\"\"\n",
        "    async function getImageData() {\n",
        "        const canvas = document.getElementById('drawing-canvas');\n",
        "        const ctx = canvas.getContext('2d');\n",
        "\n",
        "        // Get the current canvas content as an image\n",
        "        const imgData = ctx.getImageData(0, 0, canvas.width, canvas.height);\n",
        "\n",
        "        // Convert image data to JSON-friendly format\n",
        "        return {\n",
        "            data: Array.from(imgData.data), // Convert Uint8ClampedArray to plain array\n",
        "            width: canvas.width,\n",
        "            height: canvas.height\n",
        "        };\n",
        "    }\n",
        "    getImageData();\n",
        "\n",
        "    \"\"\"\n",
        "\n",
        "    # Get data from JavaScript\n",
        "    data = output.eval_js(get_image_data_js)\n",
        "\n",
        "    # Validate data dimensions\n",
        "    print(f\"Canvas Width: {data['width']}, Height: {data['height']}\")\n",
        "    print(f\"Image Data Length: {len(data['data'])}\")\n",
        "\n",
        "    # Convert the data into a NumPy array\n",
        "    img_array = np.array(data['data'], dtype=np.uint8).reshape((data['height'], data['width'], 4))\n",
        "\n",
        "    # Debug: Display the first few pixels\n",
        "    print(f\"Sample Pixels: {img_array[0, :5, :]}\")\n",
        "\n",
        "    print(f\"Image Array Shape: {img_array.shape}\")\n",
        "    print(f\"Sample Pixels (First Row): {img_array[0, :5]}\")\n",
        "\n",
        "    # Convert RGBA to RGB\n",
        "    img = Image.fromarray(img_array, 'RGBA').convert('RGB')\n",
        "\n",
        "    # Resize the image to the required input size for the model\n",
        "    img = img.resize((40, 40))\n",
        "\n",
        "    # Save the image\n",
        "    img_path = '/content/drive/MyDrive/drawn_images/drawn_image.png'\n",
        "    img.save(img_path)\n",
        "\n",
        "    #debag image\n",
        "    debug_path = '/content/drive/MyDrive/drawn_images/debug_image.png'\n",
        "    debug_img = Image.fromarray(img_array, 'RGBA')\n",
        "    debug_img.save(debug_path)\n",
        "    print(f\"Debug image saved to {debug_path}\")\n",
        "\n",
        "    # Pass the image to your model\n",
        "    single_prediction(img)\n",
        "\n",
        "\n",
        "    # Create a button to make a prediction\n",
        "predict_button = widgets.Button(description='Predict')\n",
        "\n",
        "# Function to handle button click\n",
        "def on_predict_button_click(b):\n",
        "    predict_from_canvas()\n",
        "\n",
        "# Register event handler\n",
        "predict_button.on_click(on_predict_button_click)\n",
        "\n",
        "# Display the button\n",
        "display(predict_button)"
      ],
      "metadata": {
        "id": "sDVDkJO3RcBU",
        "colab": {
          "base_uri": "https://localhost:8080/",
          "height": 744,
          "referenced_widgets": [
            "478969a60fe44230aab06e117398d3b1",
            "fe66731c73af4e56a6abfa3c5ca13300",
            "6c7dd0ff51a84f7084ae614a463d4b8b"
          ]
        },
        "outputId": "1d0341f9-831f-4bf1-fd86-af4abfa1466d"
      },
      "execution_count": 42,
      "outputs": [
        {
          "output_type": "display_data",
          "data": {
            "text/plain": [
              "<IPython.core.display.HTML object>"
            ],
            "text/html": [
              "\n",
              "<canvas width=\"400\" height=\"400\" id=\"drawing-canvas\" style=\"border:1px solid black;\"></canvas>\n",
              "\n",
              "<script type=\"text/javascript\">\n",
              "    // Get the canvas element and its context\n",
              "    var canvas = document.getElementById('drawing-canvas');\n",
              "    var ctx = canvas.getContext('2d');\n",
              "\n",
              "    // Set the initial background to white ONCE\n",
              "    function initializeCanvas() {\n",
              "        ctx.fillStyle = 'white';\n",
              "        ctx.fillRect(0, 0, canvas.width, canvas.height);\n",
              "    }\n",
              "\n",
              "    initializeCanvas(); // Call this to set the white background at the start\n",
              "\n",
              "    // Set the stroke style for drawing\n",
              "    ctx.strokeStyle = 'black';\n",
              "    ctx.lineWidth = 10;\n",
              "\n",
              "    // Flag to indicate whether the mouse button is pressed\n",
              "    var isDrawing = false;\n",
              "\n",
              "    // Function to handle mouse down events\n",
              "    function handleMouseDown(event) {\n",
              "        // Start drawing\n",
              "        isDrawing = true;\n",
              "        ctx.beginPath();\n",
              "        ctx.moveTo(event.offsetX, event.offsetY);\n",
              "    }\n",
              "\n",
              "    // Function to handle mouse move events\n",
              "    function handleMouseMove(event) {\n",
              "        if (isDrawing) {\n",
              "            // Draw a line to the current mouse position\n",
              "            ctx.lineTo(event.offsetX, event.offsetY);\n",
              "            ctx.stroke();\n",
              "        }\n",
              "    }\n",
              "\n",
              "    // Function to handle mouse up events\n",
              "    function handleMouseUp(event) {\n",
              "        // Stop drawing\n",
              "        isDrawing = false;\n",
              "    }\n",
              "\n",
              "    // Register event listeners\n",
              "    canvas.addEventListener('mousedown', handleMouseDown);\n",
              "    canvas.addEventListener('mousemove', handleMouseMove);\n",
              "    canvas.addEventListener('mouseup', handleMouseUp);\n",
              "</script>\n",
              "\n"
            ]
          },
          "metadata": {}
        },
        {
          "output_type": "display_data",
          "data": {
            "text/plain": [
              "Button(description='Predict', style=ButtonStyle())"
            ],
            "application/vnd.jupyter.widget-view+json": {
              "version_major": 2,
              "version_minor": 0,
              "model_id": "478969a60fe44230aab06e117398d3b1"
            }
          },
          "metadata": {}
        },
        {
          "output_type": "stream",
          "name": "stdout",
          "text": [
            "Canvas Width: 400, Height: 400\n",
            "Image Data Length: 640000\n",
            "Sample Pixels: [[255 255 255 255]\n",
            " [255 255 255 255]\n",
            " [255 255 255 255]\n",
            " [255 255 255 255]\n",
            " [255 255 255 255]]\n",
            "Image Array Shape: (400, 400, 4)\n",
            "Sample Pixels (First Row): [[255 255 255 255]\n",
            " [255 255 255 255]\n",
            " [255 255 255 255]\n",
            " [255 255 255 255]\n",
            " [255 255 255 255]]\n",
            "Debug image saved to /content/drive/MyDrive/drawn_images/debug_image.png\n",
            "\u001b[1m1/1\u001b[0m \u001b[32m━━━━━━━━━━━━━━━━━━━━\u001b[0m\u001b[37m\u001b[0m \u001b[1m0s\u001b[0m 16ms/step\n",
            "prediction : 9\n"
          ]
        }
      ]
    }
  ],
  "metadata": {
    "kernelspec": {
      "display_name": "Python 3",
      "name": "python3"
    },
    "language_info": {
      "codemirror_mode": {
        "name": "ipython",
        "version": 3
      },
      "file_extension": ".py",
      "mimetype": "text/x-python",
      "name": "python",
      "nbconvert_exporter": "python",
      "pygments_lexer": "ipython3",
      "version": "3.7.9"
    },
    "colab": {
      "provenance": [],
      "gpuType": "T4",
      "include_colab_link": true
    },
    "widgets": {
      "application/vnd.jupyter.widget-state+json": {
        "478969a60fe44230aab06e117398d3b1": {
          "model_module": "@jupyter-widgets/controls",
          "model_name": "ButtonModel",
          "model_module_version": "1.5.0",
          "state": {
            "_dom_classes": [],
            "_model_module": "@jupyter-widgets/controls",
            "_model_module_version": "1.5.0",
            "_model_name": "ButtonModel",
            "_view_count": null,
            "_view_module": "@jupyter-widgets/controls",
            "_view_module_version": "1.5.0",
            "_view_name": "ButtonView",
            "button_style": "",
            "description": "Predict",
            "disabled": false,
            "icon": "",
            "layout": "IPY_MODEL_fe66731c73af4e56a6abfa3c5ca13300",
            "style": "IPY_MODEL_6c7dd0ff51a84f7084ae614a463d4b8b",
            "tooltip": ""
          }
        },
        "fe66731c73af4e56a6abfa3c5ca13300": {
          "model_module": "@jupyter-widgets/base",
          "model_name": "LayoutModel",
          "model_module_version": "1.2.0",
          "state": {
            "_model_module": "@jupyter-widgets/base",
            "_model_module_version": "1.2.0",
            "_model_name": "LayoutModel",
            "_view_count": null,
            "_view_module": "@jupyter-widgets/base",
            "_view_module_version": "1.2.0",
            "_view_name": "LayoutView",
            "align_content": null,
            "align_items": null,
            "align_self": null,
            "border": null,
            "bottom": null,
            "display": null,
            "flex": null,
            "flex_flow": null,
            "grid_area": null,
            "grid_auto_columns": null,
            "grid_auto_flow": null,
            "grid_auto_rows": null,
            "grid_column": null,
            "grid_gap": null,
            "grid_row": null,
            "grid_template_areas": null,
            "grid_template_columns": null,
            "grid_template_rows": null,
            "height": null,
            "justify_content": null,
            "justify_items": null,
            "left": null,
            "margin": null,
            "max_height": null,
            "max_width": null,
            "min_height": null,
            "min_width": null,
            "object_fit": null,
            "object_position": null,
            "order": null,
            "overflow": null,
            "overflow_x": null,
            "overflow_y": null,
            "padding": null,
            "right": null,
            "top": null,
            "visibility": null,
            "width": null
          }
        },
        "6c7dd0ff51a84f7084ae614a463d4b8b": {
          "model_module": "@jupyter-widgets/controls",
          "model_name": "ButtonStyleModel",
          "model_module_version": "1.5.0",
          "state": {
            "_model_module": "@jupyter-widgets/controls",
            "_model_module_version": "1.5.0",
            "_model_name": "ButtonStyleModel",
            "_view_count": null,
            "_view_module": "@jupyter-widgets/base",
            "_view_module_version": "1.2.0",
            "_view_name": "StyleView",
            "button_color": null,
            "font_weight": ""
          }
        }
      }
    },
    "accelerator": "GPU"
  },
  "nbformat": 4,
  "nbformat_minor": 0
}